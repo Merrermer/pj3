{
  "cells": [
    {
      "cell_type": "code",
      "execution_count": null,
      "metadata": {
        "colab": {
          "base_uri": "https://localhost:8080/"
        },
        "id": "lMzBIgu1YMNp",
        "outputId": "16115139-e930-4ed7-ec77-aa61ffd65e37"
      },
      "outputs": [
        {
          "name": "stdout",
          "output_type": "stream",
          "text": [
            "Collecting cvxportfolio\n",
            "  Downloading cvxportfolio-1.3.2-py3-none-any.whl.metadata (14 kB)\n",
            "Requirement already satisfied: pandas in /usr/local/lib/python3.10/dist-packages (from cvxportfolio) (2.1.4)\n",
            "Requirement already satisfied: numpy in /usr/local/lib/python3.10/dist-packages (from cvxportfolio) (1.26.4)\n",
            "Requirement already satisfied: matplotlib in /usr/local/lib/python3.10/dist-packages (from cvxportfolio) (3.7.1)\n",
            "Requirement already satisfied: requests in /usr/local/lib/python3.10/dist-packages (from cvxportfolio) (2.32.3)\n",
            "Requirement already satisfied: cvxpy in /usr/local/lib/python3.10/dist-packages (from cvxportfolio) (1.5.3)\n",
            "Collecting multiprocess (from cvxportfolio)\n",
            "  Downloading multiprocess-0.70.16-py310-none-any.whl.metadata (7.2 kB)\n",
            "Requirement already satisfied: scs in /usr/local/lib/python3.10/dist-packages (from cvxportfolio) (3.2.7)\n",
            "Requirement already satisfied: osqp>=0.6.2 in /usr/local/lib/python3.10/dist-packages (from cvxpy->cvxportfolio) (0.6.7.post0)\n",
            "Requirement already satisfied: ecos>=2 in /usr/local/lib/python3.10/dist-packages (from cvxpy->cvxportfolio) (2.0.14)\n",
            "Requirement already satisfied: clarabel>=0.5.0 in /usr/local/lib/python3.10/dist-packages (from cvxpy->cvxportfolio) (0.9.0)\n",
            "Requirement already satisfied: scipy>=1.1.0 in /usr/local/lib/python3.10/dist-packages (from cvxpy->cvxportfolio) (1.13.1)\n",
            "Requirement already satisfied: contourpy>=1.0.1 in /usr/local/lib/python3.10/dist-packages (from matplotlib->cvxportfolio) (1.3.0)\n",
            "Requirement already satisfied: cycler>=0.10 in /usr/local/lib/python3.10/dist-packages (from matplotlib->cvxportfolio) (0.12.1)\n",
            "Requirement already satisfied: fonttools>=4.22.0 in /usr/local/lib/python3.10/dist-packages (from matplotlib->cvxportfolio) (4.53.1)\n",
            "Requirement already satisfied: kiwisolver>=1.0.1 in /usr/local/lib/python3.10/dist-packages (from matplotlib->cvxportfolio) (1.4.5)\n",
            "Requirement already satisfied: packaging>=20.0 in /usr/local/lib/python3.10/dist-packages (from matplotlib->cvxportfolio) (24.1)\n",
            "Requirement already satisfied: pillow>=6.2.0 in /usr/local/lib/python3.10/dist-packages (from matplotlib->cvxportfolio) (9.4.0)\n",
            "Requirement already satisfied: pyparsing>=2.3.1 in /usr/local/lib/python3.10/dist-packages (from matplotlib->cvxportfolio) (3.1.4)\n",
            "Requirement already satisfied: python-dateutil>=2.7 in /usr/local/lib/python3.10/dist-packages (from matplotlib->cvxportfolio) (2.8.2)\n",
            "Collecting dill>=0.3.8 (from multiprocess->cvxportfolio)\n",
            "  Downloading dill-0.3.8-py3-none-any.whl.metadata (10 kB)\n",
            "Requirement already satisfied: pytz>=2020.1 in /usr/local/lib/python3.10/dist-packages (from pandas->cvxportfolio) (2024.1)\n",
            "Requirement already satisfied: tzdata>=2022.1 in /usr/local/lib/python3.10/dist-packages (from pandas->cvxportfolio) (2024.1)\n",
            "Requirement already satisfied: charset-normalizer<4,>=2 in /usr/local/lib/python3.10/dist-packages (from requests->cvxportfolio) (3.3.2)\n",
            "Requirement already satisfied: idna<4,>=2.5 in /usr/local/lib/python3.10/dist-packages (from requests->cvxportfolio) (3.8)\n",
            "Requirement already satisfied: urllib3<3,>=1.21.1 in /usr/local/lib/python3.10/dist-packages (from requests->cvxportfolio) (2.0.7)\n",
            "Requirement already satisfied: certifi>=2017.4.17 in /usr/local/lib/python3.10/dist-packages (from requests->cvxportfolio) (2024.7.4)\n",
            "Requirement already satisfied: qdldl in /usr/local/lib/python3.10/dist-packages (from osqp>=0.6.2->cvxpy->cvxportfolio) (0.1.7.post4)\n",
            "Requirement already satisfied: six>=1.5 in /usr/local/lib/python3.10/dist-packages (from python-dateutil>=2.7->matplotlib->cvxportfolio) (1.16.0)\n",
            "Downloading cvxportfolio-1.3.2-py3-none-any.whl (352 kB)\n",
            "\u001b[2K   \u001b[90m━━━━━━━━━━━━━━━━━━━━━━━━━━━━━━━━━━━━━━━━\u001b[0m \u001b[32m352.9/352.9 kB\u001b[0m \u001b[31m6.2 MB/s\u001b[0m eta \u001b[36m0:00:00\u001b[0m\n",
            "\u001b[?25hDownloading multiprocess-0.70.16-py310-none-any.whl (134 kB)\n",
            "\u001b[2K   \u001b[90m━━━━━━━━━━━━━━━━━━━━━━━━━━━━━━━━━━━━━━━━\u001b[0m \u001b[32m134.8/134.8 kB\u001b[0m \u001b[31m8.8 MB/s\u001b[0m eta \u001b[36m0:00:00\u001b[0m\n",
            "\u001b[?25hDownloading dill-0.3.8-py3-none-any.whl (116 kB)\n",
            "\u001b[2K   \u001b[90m━━━━━━━━━━━━━━━━━━━━━━━━━━━━━━━━━━━━━━━━\u001b[0m \u001b[32m116.3/116.3 kB\u001b[0m \u001b[31m6.1 MB/s\u001b[0m eta \u001b[36m0:00:00\u001b[0m\n",
            "\u001b[?25hInstalling collected packages: dill, multiprocess, cvxportfolio\n",
            "Successfully installed cvxportfolio-1.3.2 dill-0.3.8 multiprocess-0.70.16\n"
          ]
        }
      ],
      "source": [
        "pip install cvxportfolio\n"
      ]
    },
    {
      "cell_type": "code",
      "execution_count": null,
      "metadata": {
        "id": "38ObFGLppgVj"
      },
      "outputs": [],
      "source": [
        "UNIVERSE = ['AAV.BK',\n",
        " 'ACE.BK',\n",
        " 'ADVANC.BK',\n",
        " 'AMATA.BK',\n",
        " 'AOT.BK',\n",
        " 'AP.BK',\n",
        " 'BANPU.BK',\n",
        " 'BBL.BK',\n",
        " 'BCH.BK',\n",
        " 'BCP.BK',\n",
        " 'BCPG.BK',\n",
        " 'BDMS.BK',\n",
        " 'BEM.BK',\n",
        " 'BGRIM.BK',\n",
        " 'BH.BK',\n",
        " 'BJC.BK',\n",
        " 'BLA.BK',\n",
        " 'BSET100.BK',\n",
        " 'BTS.BK',\n",
        " 'CBG.BK',\n",
        " 'CENTEL.BK',\n",
        " 'CHG.BK',\n",
        " 'CK.BK',\n",
        " 'CKP.BK',\n",
        " 'COM7.BK',\n",
        " 'CPALL.BK',\n",
        " 'CPF.BK',\n",
        " 'CPN.BK',\n",
        " 'EA.BK',\n",
        " 'ERW.BK',\n",
        " 'GLOBAL.BK',\n",
        " 'GPSC.BK',\n",
        " 'GULF.BK',\n",
        " 'GUNKUL.BK',\n",
        " 'HANA.BK',\n",
        " 'HMPRO.BK',\n",
        " 'INTUCH.BK',\n",
        " 'IRPC.BK',\n",
        " 'IVL.BK',\n",
        " 'JAS.BK',\n",
        " 'JMT.BK',\n",
        " 'KBANK.BK',\n",
        " 'KCE.BK',\n",
        " 'KKP.BK',\n",
        " 'KTB.BK',\n",
        " 'KTC.BK',\n",
        " 'LH.BK',\n",
        " 'MEGA.BK',\n",
        " 'MINT.BK',\n",
        " 'MTC.BK',\n",
        " 'PLANB.BK',\n",
        " 'PRM.BK',\n",
        " 'PTT.BK',\n",
        " 'PTTEP.BK',\n",
        " 'PTTGC.BK',\n",
        " 'RATCH.BK',\n",
        " 'RCL.BK',\n",
        " 'SAWAD.BK',\n",
        " 'SCC.BK',\n",
        " 'SJWD.BK',\n",
        " 'SPALI.BK',\n",
        " 'SPRC.BK',\n",
        " 'STA.BK',\n",
        " 'TASCO.BK',\n",
        " 'TCAP.BK',\n",
        " 'TISCO.BK',\n",
        " 'TOA.BK',\n",
        " 'TOP.BK',\n",
        " 'TRUE.BK',\n",
        " 'TU.BK',\n",
        " 'WHA.BK']"
      ]
    },
    {
      "cell_type": "code",
      "execution_count": null,
      "metadata": {
        "colab": {
          "base_uri": "https://localhost:8080/"
        },
        "id": "NgQAfX9V4aSt",
        "outputId": "605bf075-88ee-4256-d294-d902f9aaa2c2"
      },
      "outputs": [
        {
          "data": {
            "text/plain": [
              "71"
            ]
          },
          "execution_count": 4,
          "metadata": {},
          "output_type": "execute_result"
        }
      ],
      "source": [
        "# UNIVERSE = list(set(SET).intersection(set(SET100)))\n",
        "len(UNIVERSE)"
      ]
    },
    {
      "cell_type": "code",
      "execution_count": null,
      "metadata": {
        "colab": {
          "base_uri": "https://localhost:8080/"
        },
        "id": "NRnehqsDYOsp",
        "outputId": "b5b63b2d-e4b7-4422-c434-1558f42b6836"
      },
      "outputs": [
        {
          "name": "stdout",
          "output_type": "stream",
          "text": [
            "Updating data............"
          ]
        },
        {
          "name": "stderr",
          "output_type": "stream",
          "text": [
            "WARNING:cvxportfolio.data.symbol_data:YahooFinance(\"BDMS.BK\") has dubious total open-to-open returns for timestamps: DatetimeIndex(['2004-05-17 03:00:00+00:00'], dtype='datetime64[ns, UTC]', freq=None)\n"
          ]
        },
        {
          "name": "stdout",
          "output_type": "stream",
          "text": [
            "...."
          ]
        },
        {
          "name": "stderr",
          "output_type": "stream",
          "text": [
            "WARNING:cvxportfolio.data.symbol_data:YahooFinance(\"BJC.BK\") has dubious total open-to-open returns for timestamps: DatetimeIndex(['2005-09-28 03:00:00+00:00'], dtype='datetime64[ns, UTC]', freq=None)\n"
          ]
        },
        {
          "name": "stdout",
          "output_type": "stream",
          "text": [
            ".......................................................\n"
          ]
        }
      ],
      "source": [
        "import cvxportfolio as cvx\n",
        "simulator = cvx.StockMarketSimulator(UNIVERSE)"
      ]
    },
    {
      "cell_type": "code",
      "execution_count": null,
      "metadata": {
        "colab": {
          "base_uri": "https://localhost:8080/"
        },
        "id": "UB88XCRwSFBa",
        "outputId": "f3efbae7-1245-4be6-96bc-554ca0456983"
      },
      "outputs": [
        {
          "name": "stdout",
          "output_type": "stream",
          "text": [
            "Updating data.\n"
          ]
        }
      ],
      "source": [
        "simulator_test = cvx.StockMarketSimulator(['BSET100.BK'])\n",
        "benchmark = simulator_test.backtest(cvx.Uniform(), start_time='2019-01-02', end_time='2024-08-01')"
      ]
    },
    {
      "cell_type": "markdown",
      "metadata": {
        "id": "o9tBDT6CWSYo"
      },
      "source": [
        "single factor index forecaster\n"
      ]
    },
    {
      "cell_type": "code",
      "execution_count": null,
      "metadata": {
        "id": "xxT6oT16UTPj"
      },
      "outputs": [],
      "source": [
        "import numpy as np\n",
        "class CustomForecaster: # pylint: disable=too-few-public-methods\n",
        "    \"\"\"Expected return as mean of recent window of past returns.\n",
        "\n",
        "    This is only meant as an example of how to define a custom forecaster;\n",
        "    it is not very interesting. Since version ``1.2.0`` a similar\n",
        "    functionality has been included in the default forecasters classes.\n",
        "\n",
        "    :param window: Window used for the mean returns.\n",
        "    :type window: int\n",
        "    \"\"\"\n",
        "\n",
        "    def __init__(self, window=20):\n",
        "        self.window = window\n",
        "\n",
        "    def CAPM_regression(self, price_df):\n",
        "\n",
        "      price_df_temp = price_df.iloc[-self.window:,:-1]\n",
        "      index_return = price_df['BSET100.BK'].iloc[-self.window:,]\n",
        "      n_columns = price_df_temp.shape[1] # Number of columns in the DataFrame except dollar value\n",
        "      alpha = np.zeros(n_columns)\n",
        "      beta = np.zeros(n_columns)\n",
        "      for i, column in enumerate(price_df_temp.columns):\n",
        "        stock_return = np.array(price_df_temp[column])\n",
        "        alpha[i], beta[i] =  np.polyfit(index_return, stock_return, 1)\n",
        "\n",
        "      return alpha, beta\n",
        "\n",
        "    def values_in_time(self, past_returns, **kwargs):\n",
        "      alpha, beta = self.CAPM_regression(past_returns)\n",
        "      return alpha + beta * (past_returns.iloc[-self.window:,:-1].mean())\n",
        "\n",
        "costom_forecaster = CustomForecaster(252)"
      ]
    },
    {
      "cell_type": "markdown",
      "metadata": {
        "id": "jJLlEk70WMWV"
      },
      "source": [
        "market_neutral"
      ]
    },
    {
      "cell_type": "code",
      "execution_count": null,
      "metadata": {
        "colab": {
          "base_uri": "https://localhost:8080/"
        },
        "id": "LdRXZATXWnzp",
        "outputId": "0b3ca04b-ce9c-4ce4-a591-4fb4167dbc69"
      },
      "outputs": [
        {
          "name": "stdout",
          "output_type": "stream",
          "text": [
            "RESULT:\n",
            "[\n",
            "#################################################################\n",
            "Universe size                                                  71\n",
            "Initial timestamp                       2022-01-04 03:00:00+00:00\n",
            "Final timestamp                         2024-07-26 03:00:00+00:00\n",
            "Number of periods                                             622\n",
            "Initial value (USDOLLAR)                                1.000e+06\n",
            "Final value (USDOLLAR)                                  6.589e+05\n",
            "Profit (USDOLLAR)                                      -3.411e+05\n",
            "                                                                 \n",
            "Avg. return (annualized)                                   -15.7%\n",
            "Volatility (annualized)                                     11.5%\n",
            "Avg. excess return (annualized)                            -19.3%\n",
            "Avg. active return (annualized)                            -19.3%\n",
            "Excess volatility (annualized)                              11.5%\n",
            "Active volatility (annualized)                              11.5%\n",
            "                                                                 \n",
            "Avg. growth rate (annualized)                              -16.3%\n",
            "Avg. excess growth rate (annualized)                       -19.9%\n",
            "Avg. active growth rate (annualized)                       -19.9%\n",
            "                                                                 \n",
            "Avg. StocksTransactionCost                                    6bp\n",
            "Max. StocksTransactionCost                                   36bp\n",
            "Avg. StocksHoldingCost                                        2bp\n",
            "Max. StocksHoldingCost                                       10bp\n",
            "                                                                 \n",
            "Sharpe ratio                                                -1.67\n",
            "Information ratio                                           -1.67\n",
            "                                                                 \n",
            "Avg. drawdown                                              -17.4%\n",
            "Min. drawdown                                              -38.7%\n",
            "Avg. leverage                                              241.6%\n",
            "Max. leverage                                              403.2%\n",
            "Avg. turnover                                               46.4%\n",
            "Max. turnover                                              168.3%\n",
            "                                                                 \n",
            "Avg. policy time                                           0.629s\n",
            "Avg. simulator time                                        0.017s\n",
            "    Of which: market data                                  0.005s\n",
            "    Of which: result                                       0.001s\n",
            "Total time                                               400.804s\n",
            "#################################################################\n",
            ", \n",
            "#################################################################\n",
            "Universe size                                                  71\n",
            "Initial timestamp                       2022-01-04 03:00:00+00:00\n",
            "Final timestamp                         2024-07-26 03:00:00+00:00\n",
            "Number of periods                                             622\n",
            "Initial value (USDOLLAR)                                1.000e+06\n",
            "Final value (USDOLLAR)                                  9.182e+05\n",
            "Profit (USDOLLAR)                                      -8.181e+04\n",
            "                                                                 \n",
            "Avg. return (annualized)                                    -2.6%\n",
            "Volatility (annualized)                                     12.0%\n",
            "Avg. excess return (annualized)                             -6.2%\n",
            "Avg. active return (annualized)                             -6.2%\n",
            "Excess volatility (annualized)                              12.0%\n",
            "Active volatility (annualized)                              12.0%\n",
            "                                                                 \n",
            "Avg. growth rate (annualized)                               -3.3%\n",
            "Avg. excess growth rate (annualized)                        -6.9%\n",
            "Avg. active growth rate (annualized)                        -6.9%\n",
            "                                                                 \n",
            "Avg. StocksTransactionCost                                    3bp\n",
            "Max. StocksTransactionCost                                   18bp\n",
            "Avg. StocksHoldingCost                                        2bp\n",
            "Max. StocksHoldingCost                                        9bp\n",
            "                                                                 \n",
            "Sharpe ratio                                                -0.52\n",
            "Information ratio                                           -0.52\n",
            "                                                                 \n",
            "Avg. drawdown                                               -7.3%\n",
            "Min. drawdown                                              -18.4%\n",
            "Avg. leverage                                              242.6%\n",
            "Max. leverage                                              340.8%\n",
            "Avg. turnover                                               24.0%\n",
            "Max. turnover                                              121.7%\n",
            "                                                                 \n",
            "Avg. policy time                                           0.634s\n",
            "Avg. simulator time                                        0.017s\n",
            "    Of which: market data                                  0.005s\n",
            "    Of which: result                                       0.001s\n",
            "Total time                                               404.336s\n",
            "#################################################################\n",
            ", \n",
            "#################################################################\n",
            "Universe size                                                  71\n",
            "Initial timestamp                       2022-01-04 03:00:00+00:00\n",
            "Final timestamp                         2024-07-26 03:00:00+00:00\n",
            "Number of periods                                             622\n",
            "Initial value (USDOLLAR)                                1.000e+06\n",
            "Final value (USDOLLAR)                                  8.762e+05\n",
            "Profit (USDOLLAR)                                      -1.238e+05\n",
            "                                                                 \n",
            "Avg. return (annualized)                                    -4.4%\n",
            "Volatility (annualized)                                     12.5%\n",
            "Avg. excess return (annualized)                             -8.0%\n",
            "Avg. active return (annualized)                             -8.0%\n",
            "Excess volatility (annualized)                              12.5%\n",
            "Active volatility (annualized)                              12.5%\n",
            "                                                                 \n",
            "Avg. growth rate (annualized)                               -5.2%\n",
            "Avg. excess growth rate (annualized)                        -8.8%\n",
            "Avg. active growth rate (annualized)                        -8.8%\n",
            "                                                                 \n",
            "Avg. StocksTransactionCost                                    2bp\n",
            "Max. StocksTransactionCost                                   18bp\n",
            "Avg. StocksHoldingCost                                        2bp\n",
            "Max. StocksHoldingCost                                       11bp\n",
            "                                                                 \n",
            "Sharpe ratio                                                -0.64\n",
            "Information ratio                                           -0.64\n",
            "                                                                 \n",
            "Avg. drawdown                                               -5.5%\n",
            "Min. drawdown                                              -25.9%\n",
            "Avg. leverage                                              240.1%\n",
            "Max. leverage                                              316.5%\n",
            "Avg. turnover                                               15.5%\n",
            "Max. turnover                                              116.7%\n",
            "                                                                 \n",
            "Avg. policy time                                           0.636s\n",
            "Avg. simulator time                                        0.017s\n",
            "    Of which: market data                                  0.005s\n",
            "    Of which: result                                       0.001s\n",
            "Total time                                               405.537s\n",
            "#################################################################\n",
            ", \n",
            "#################################################################\n",
            "Universe size                                                  71\n",
            "Initial timestamp                       2022-01-04 03:00:00+00:00\n",
            "Final timestamp                         2024-07-26 03:00:00+00:00\n",
            "Number of periods                                             622\n",
            "Initial value (USDOLLAR)                                1.000e+06\n",
            "Final value (USDOLLAR)                                  8.401e+05\n",
            "Profit (USDOLLAR)                                      -1.599e+05\n",
            "                                                                 \n",
            "Avg. return (annualized)                                    -6.1%\n",
            "Volatility (annualized)                                     12.3%\n",
            "Avg. excess return (annualized)                             -9.7%\n",
            "Avg. active return (annualized)                             -9.7%\n",
            "Excess volatility (annualized)                              12.3%\n",
            "Active volatility (annualized)                              12.3%\n",
            "                                                                 \n",
            "Avg. growth rate (annualized)                               -6.8%\n",
            "Avg. excess growth rate (annualized)                       -10.4%\n",
            "Avg. active growth rate (annualized)                       -10.4%\n",
            "                                                                 \n",
            "Avg. StocksTransactionCost                                    1bp\n",
            "Max. StocksTransactionCost                                   17bp\n",
            "Avg. StocksHoldingCost                                        2bp\n",
            "Max. StocksHoldingCost                                        9bp\n",
            "                                                                 \n",
            "Sharpe ratio                                                -0.78\n",
            "Information ratio                                           -0.78\n",
            "                                                                 \n",
            "Avg. drawdown                                               -4.7%\n",
            "Min. drawdown                                              -23.1%\n",
            "Avg. leverage                                              230.0%\n",
            "Max. leverage                                              285.7%\n",
            "Avg. turnover                                                8.1%\n",
            "Max. turnover                                              114.0%\n",
            "                                                                 \n",
            "Avg. policy time                                           0.643s\n",
            "Avg. simulator time                                        0.018s\n",
            "    Of which: market data                                  0.005s\n",
            "    Of which: result                                       0.001s\n",
            "Total time                                               410.232s\n",
            "#################################################################\n",
            ", \n",
            "#################################################################\n",
            "Universe size                                                  71\n",
            "Initial timestamp                       2022-01-04 03:00:00+00:00\n",
            "Final timestamp                         2024-07-26 03:00:00+00:00\n",
            "Number of periods                                             622\n",
            "Initial value (USDOLLAR)                                1.000e+06\n",
            "Final value (USDOLLAR)                                  8.371e+05\n",
            "Profit (USDOLLAR)                                      -1.629e+05\n",
            "                                                                 \n",
            "Avg. return (annualized)                                    -6.2%\n",
            "Volatility (annualized)                                     12.3%\n",
            "Avg. excess return (annualized)                             -9.8%\n",
            "Avg. active return (annualized)                             -9.8%\n",
            "Excess volatility (annualized)                              12.3%\n",
            "Active volatility (annualized)                              12.3%\n",
            "                                                                 \n",
            "Avg. growth rate (annualized)                               -7.0%\n",
            "Avg. excess growth rate (annualized)                       -10.6%\n",
            "Avg. active growth rate (annualized)                       -10.6%\n",
            "                                                                 \n",
            "Avg. StocksTransactionCost                                    1bp\n",
            "Max. StocksTransactionCost                                   15bp\n",
            "Avg. StocksHoldingCost                                        2bp\n",
            "Max. StocksHoldingCost                                       10bp\n",
            "                                                                 \n",
            "Sharpe ratio                                                -0.80\n",
            "Information ratio                                           -0.80\n",
            "                                                                 \n",
            "Avg. drawdown                                               -4.9%\n",
            "Min. drawdown                                              -23.9%\n",
            "Avg. leverage                                              227.5%\n",
            "Max. leverage                                              267.8%\n",
            "Avg. turnover                                                6.3%\n",
            "Max. turnover                                              117.2%\n",
            "                                                                 \n",
            "Avg. policy time                                           0.635s\n",
            "Avg. simulator time                                        0.017s\n",
            "    Of which: market data                                  0.005s\n",
            "    Of which: result                                       0.001s\n",
            "Total time                                               405.243s\n",
            "#################################################################\n",
            "]\n"
          ]
        }
      ],
      "source": [
        "import numpy as np\n",
        "import cvxportfolio as cvx\n",
        "target_volatility = 0.1 / np.sqrt(252) # annual std\n",
        "\n",
        "risk_model = cvx.FactorModelCovariance(num_factors = 10)\n",
        "\n",
        "constraints = [\n",
        "    risk_model <= target_volatility**2,\n",
        "    cvx.DollarNeutral(),\n",
        "    cvx.MarketNeutral(),\n",
        "    cvx.LeverageLimit(7),\n",
        "    cvx.MaxWeights(0.1),\n",
        "    cvx.MinWeights(-0.1),\n",
        "]\n",
        "\n",
        "policies = []\n",
        "for days in [10,30,60,180,252]:\n",
        "  policies.append(cvx.MultiPeriodOptimization(\n",
        "      cvx.ReturnsForecast(r_hat = CustomForecaster(days))-cvx.StocksTransactionCost(),\n",
        "      constraints = constraints,\n",
        "      ignore_dpp=True,\n",
        "      solver='ECOS',\n",
        "      planning_horizon=5))\n",
        "\n",
        "sim = simulator\n",
        "\n",
        "result = sim.backtest_many(policies, start_time='2022-01-02', end_time='2024-07-30')\n",
        "\n",
        "print('RESULT:')\n",
        "print(result)"
      ]
    }
  ],
  "metadata": {
    "colab": {
      "machine_shape": "hm",
      "provenance": []
    },
    "kernelspec": {
      "display_name": "Python 3",
      "name": "python3"
    },
    "language_info": {
      "name": "python"
    }
  },
  "nbformat": 4,
  "nbformat_minor": 0
}
